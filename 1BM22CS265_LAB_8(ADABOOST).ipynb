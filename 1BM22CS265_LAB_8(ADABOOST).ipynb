{
  "nbformat": 4,
  "nbformat_minor": 0,
  "metadata": {
    "colab": {
      "provenance": [],
      "authorship_tag": "ABX9TyMNRcJF70EoUio9ZhTGl5dG",
      "include_colab_link": true
    },
    "kernelspec": {
      "name": "python3",
      "display_name": "Python 3"
    },
    "language_info": {
      "name": "python"
    }
  },
  "cells": [
    {
      "cell_type": "markdown",
      "metadata": {
        "id": "view-in-github",
        "colab_type": "text"
      },
      "source": [
        "<a href=\"https://colab.research.google.com/github/Shreyacy/ML-LABB/blob/main/1BM22CS265_LAB_8(ADABOOST).ipynb\" target=\"_parent\"><img src=\"https://colab.research.google.com/assets/colab-badge.svg\" alt=\"Open In Colab\"/></a>"
      ]
    },
    {
      "cell_type": "code",
      "execution_count": null,
      "metadata": {
        "colab": {
          "base_uri": "https://localhost:8080/"
        },
        "id": "Gx8i75AAdkhf",
        "outputId": "dfa99710-e108-47ac-bb32-995cddda8db6"
      },
      "outputs": [
        {
          "output_type": "stream",
          "name": "stdout",
          "text": [
            "Default Accuracy (10 estimators): 0.8182\n",
            "Confusion Matrix:\n",
            "[[6782  632]\n",
            " [1144 1211]]\n"
          ]
        }
      ],
      "source": [
        "import pandas as pd\n",
        "from sklearn.ensemble import AdaBoostClassifier\n",
        "from sklearn.model_selection import train_test_split\n",
        "from sklearn.metrics import accuracy_score, confusion_matrix\n",
        "from sklearn.preprocessing import LabelEncoder\n",
        "import matplotlib.pyplot as plt\n",
        "\n",
        "# Load the dataset\n",
        "df = pd.read_csv(\"/content/income (1).csv\")\n",
        "\n",
        "# Encode categorical variables (if any)\n",
        "label_encoders = {}\n",
        "for column in df.select_dtypes(include='object').columns:\n",
        "    le = LabelEncoder()\n",
        "    df[column] = le.fit_transform(df[column])\n",
        "    label_encoders[column] = le\n",
        "\n",
        "# Split dataset into features and target\n",
        "X = df.drop(\"income_level\", axis=1)  # replace 'income' with the actual target column name if different\n",
        "y = df[\"income_level\"]\n",
        "\n",
        "# Train-test split\n",
        "X_train, X_test, y_train, y_test = train_test_split(X, y, test_size=0.2, random_state=42)\n",
        "\n",
        "# Train AdaBoost with default n_estimators=10\n",
        "ada_default = AdaBoostClassifier(n_estimators=10, random_state=42)\n",
        "ada_default.fit(X_train, y_train)\n",
        "y_pred_default = ada_default.predict(X_test)\n",
        "default_accuracy = accuracy_score(y_test, y_pred_default)\n",
        "\n",
        "print(f\"Default Accuracy (10 estimators): {default_accuracy:.4f}\")\n",
        "print(\"Confusion Matrix:\")\n",
        "print(confusion_matrix(y_test, y_pred_default))\n",
        "\n",
        "# Tune number of estimators\n",
        "scores = []\n",
        "n_estimators_range = range(1, 101)\n",
        "\n",
        "for n in n_estimators_range:\n",
        "    ada = AdaBoostClassifier(n_estimators=n, random_state=42)\n",
        "    ada.fit(X_train, y_train)\n",
        "    y_pred = ada.predict(X_test)\n",
        "    acc = accuracy_score(y_test, y_pred)\n",
        "    scores.append(acc)\n",
        "\n",
        "# Best accuracy and corresponding n_estimators\n",
        "best_score = max(scores)\n",
        "best_n_estimators = n_estimators_range[scores.index(best_score)]\n",
        "\n",
        "# Final model with best n_estimators\n",
        "ada_best = AdaBoostClassifier(n_estimators=best_n_estimators, random_state=42)\n",
        "ada_best.fit(X_train, y_train)\n",
        "y_pred_best = ada_best.predict(X_test)\n",
        "conf_matrix_best = confusion_matrix(y_test, y_pred_best)\n",
        "\n",
        "print(f\"\\nBest Accuracy: {best_score:.4f} using {best_n_estimators} estimators\")\n",
        "print(\"Best Confusion Matrix:\")\n",
        "print(conf_matrix_best)\n",
        "\n",
        "# Optional: Plot accuracy vs number of estimators\n",
        "plt.figure(figsize=(10, 6))\n",
        "plt.plot(n_estimators_range, scores, marker='o')\n",
        "plt.title(\"AdaBoost Accuracy vs Number of Estimators\")\n",
        "plt.xlabel(\"Number of Estimators\")\n",
        "plt.ylabel(\"Accuracy\")\n",
        "plt.grid(True)\n",
        "plt.show()"
      ]
    }
  ]
}